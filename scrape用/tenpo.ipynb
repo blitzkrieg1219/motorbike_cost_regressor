{
 "cells": [
  {
   "cell_type": "markdown",
   "metadata": {},
   "source": [
    "# 店舗idに関しては一度行えば良いものなので関数化をしなかった。"
   ]
  },
  {
   "cell_type": "code",
   "execution_count": 146,
   "metadata": {},
   "outputs": [],
   "source": [
    "import pandas as pd\n",
    "import requests\n",
    "from bs4 import BeautifulSoup\n",
    "import re\n",
    "import time\n",
    "from tqdm import tqdm\n",
    "from selenium import webdriver\n",
    "import chromedriver_binary\n",
    "from selenium.webdriver.common.by import By\n",
    "from selenium.webdriver.common.keys import Keys\n",
    "from selenium.webdriver.support.ui import WebDriverWait\n",
    "from selenium.webdriver.support import expected_conditions as EC\n",
    "# 例外処理用のlibraryをimport\n",
    "from selenium.common.exceptions import NoSuchElementException\n",
    "from tqdm import tqdm\n",
    "#数字とアルファベットのみ半角に変換したいため使用\n",
    "import unicodedata"
   ]
  },
  {
   "cell_type": "code",
   "execution_count": 18,
   "metadata": {},
   "outputs": [
    {
     "data": {
      "text/plain": [
       "<bound method WebDriver.close of <selenium.webdriver.chrome.webdriver.WebDriver (session=\"b870bff1fbc8ae81918922cc6e982465\")>>"
      ]
     },
     "execution_count": 18,
     "metadata": {},
     "output_type": "execute_result"
    }
   ],
   "source": [
    "driver = webdriver.Chrome()\n",
    "driver.close"
   ]
  },
  {
   "cell_type": "markdown",
   "metadata": {},
   "source": [
    "下記ページのすべての店舗とその他のページをスクレイピングする"
   ]
  },
  {
   "cell_type": "code",
   "execution_count": 20,
   "metadata": {},
   "outputs": [],
   "source": [
    "url='https://www.8190.jp/shop/'\n",
    "driver.get(url)\n",
    "time.sleep(2)"
   ]
  },
  {
   "cell_type": "markdown",
   "metadata": {},
   "source": [
    "# 各店舗のboxをリストで取得して、for文で一店舗ごと取得していく"
   ]
  },
  {
   "cell_type": "markdown",
   "metadata": {},
   "source": [
    "## テスト"
   ]
  },
  {
   "cell_type": "code",
   "execution_count": 134,
   "metadata": {},
   "outputs": [],
   "source": [
    "shop_info =driver.find_elements(By.CLASS_NAME,'textBox')\n",
    "tenpo=shop_info[4].find_elements(By.CLASS_NAME,'txt')\n",
    "address = shop_info[4].find_elements(By.CLASS_NAME,'address')\n",
    "phone = shop_info[4].find_elements(By.CLASS_NAME,'wid')\n",
    "phone_2 = shop_info[4].find_elements(By.XPATH,'./ul/li')"
   ]
  },
  {
   "cell_type": "code",
   "execution_count": 115,
   "metadata": {},
   "outputs": [
    {
     "data": {
      "text/plain": [
       "81"
      ]
     },
     "execution_count": 115,
     "metadata": {},
     "output_type": "execute_result"
    }
   ],
   "source": [
    "len(shop_info)"
   ]
  },
  {
   "cell_type": "code",
   "execution_count": 118,
   "metadata": {},
   "outputs": [
    {
     "data": {
      "text/plain": [
       "'郡山店'"
      ]
     },
     "execution_count": 118,
     "metadata": {},
     "output_type": "execute_result"
    }
   ],
   "source": [
    "tenpo[0].text"
   ]
  },
  {
   "cell_type": "code",
   "execution_count": 103,
   "metadata": {},
   "outputs": [
    {
     "data": {
      "text/plain": [
       "1"
      ]
     },
     "execution_count": 103,
     "metadata": {},
     "output_type": "execute_result"
    }
   ],
   "source": [
    "len(tenpo)"
   ]
  },
  {
   "cell_type": "code",
   "execution_count": 137,
   "metadata": {},
   "outputs": [
    {
     "data": {
      "text/plain": [
       "'販売相談\\n0120-37-8190'"
      ]
     },
     "execution_count": 137,
     "metadata": {},
     "output_type": "execute_result"
    }
   ],
   "source": [
    "phone_2[1].text"
   ]
  },
  {
   "cell_type": "code",
   "execution_count": 123,
   "metadata": {},
   "outputs": [
    {
     "data": {
      "text/plain": [
       "0"
      ]
     },
     "execution_count": 123,
     "metadata": {},
     "output_type": "execute_result"
    }
   ],
   "source": [
    "if len(phone) ==0:\n",
    "    phone = shop_info[4].find_elements(By.XPATH,'./ul/li')"
   ]
  },
  {
   "cell_type": "code",
   "execution_count": 105,
   "metadata": {},
   "outputs": [
    {
     "data": {
      "text/plain": [
       "'札幌店'"
      ]
     },
     "execution_count": 105,
     "metadata": {},
     "output_type": "execute_result"
    }
   ],
   "source": [
    "tenpo[0].text"
   ]
  },
  {
   "cell_type": "code",
   "execution_count": 86,
   "metadata": {},
   "outputs": [
    {
     "data": {
      "text/plain": [
       "'〒900-0004\\n沖縄県那覇市銘苅266-3'"
      ]
     },
     "execution_count": 86,
     "metadata": {},
     "output_type": "execute_result"
    }
   ],
   "source": [
    "address[80].text"
   ]
  },
  {
   "cell_type": "code",
   "execution_count": 101,
   "metadata": {},
   "outputs": [
    {
     "data": {
      "text/plain": [
       "'お問い合わせ\\n029-843-8190'"
      ]
     },
     "execution_count": 101,
     "metadata": {},
     "output_type": "execute_result"
    }
   ],
   "source": [
    "phone[4].text"
   ]
  },
  {
   "cell_type": "code",
   "execution_count": 24,
   "metadata": {},
   "outputs": [
    {
     "data": {
      "text/plain": [
       "'北海道・東北エリア\\n北海道\\n札幌店買取\\n〒007-0861\\n北海道札幌市東区伏古一条4-1-1\\n営業時間・定休日\\n10:00～19:00(平日)\\u300010:00～19:00(土日祝)\\n定休日\\u3000木曜日\\nご来店について\\u3000無料出張買取のご依頼状況により、店舗にスタッフが不在となる場合がございます。\\nご来店いただく際には、下記連絡先までご連絡いただき、ご確認いただくと確実な対応が可能ですので、お気軽にお問い合わせください。\\nお問い合わせ\\n0120-65-8190\\nもっと見る\\n岩手県\\n盛岡店販売買取\\n〒020-0836\\n岩手県盛岡市津志田西2-17-50\\u3000盛岡南ショッピングセンターサンサ内\\n営業時間・定休日\\n10:00～19:00(平日)\\u300010:00～19:00(土日祝)\\n定休日\\u3000木曜日\\nお問い合わせ\\n019-601-8190\\nもっと見る\\n宮城県\\n仙台店販売レンタル買取\\n〒981-3117\\n宮城県仙台市泉区市名坂字黒木川原54-1\\n営業時間・定休日\\n10:00～19:00(平日)\\u300010:00～19:00(土日祝)\\n定休日\\u3000火曜日\\nお問い合わせ\\n022-772-8190\\nもっと見る\\n福島県\\nラパークいわき店販売レンタル買取\\n〒970-8044\\n福島県いわき市中央台飯野4-1（ラパークいわき内）\\n営業時間・定休日\\n10:00～19:00(平日)\\u300010:00～19:00(土日祝)\\n定休日\\u3000月曜（祝祭日を除く）\\nご来店について\\u3000みなさまのご来店心よりお待ちしております。\\nお問い合わせ\\n0246-38-9980\\nもっと見る\\n郡山店販売買取\\n〒963-8022\\n福島県郡山市西ノ内2-20-7\\n営業時間・定休日\\n10:00～19:00(平日)\\u300010:00～19:00(土日祝)\\n定休日\\u3000水曜日\\n買取相談\\n0120-65-8190\\n販売相談\\n0120-37-8190\\n※「買取」「販売」で電話番号が異なります。お掛け間違いにご注意ください。\\nもっと見る'"
      ]
     },
     "execution_count": 24,
     "metadata": {},
     "output_type": "execute_result"
    }
   ],
   "source": [
    "wrapper.text"
   ]
  },
  {
   "cell_type": "code",
   "execution_count": 43,
   "metadata": {},
   "outputs": [],
   "source": [
    "tenpo=driver.find_elements(By.CLASS_NAME,'txt')"
   ]
  },
  {
   "cell_type": "markdown",
   "metadata": {},
   "source": [
    "## 実行\n"
   ]
  },
  {
   "cell_type": "code",
   "execution_count": 138,
   "metadata": {},
   "outputs": [
    {
     "data": {
      "text/plain": [
       "True"
      ]
     },
     "execution_count": 138,
     "metadata": {},
     "output_type": "execute_result"
    }
   ],
   "source": [
    "not phone"
   ]
  },
  {
   "cell_type": "code",
   "execution_count": 144,
   "metadata": {},
   "outputs": [],
   "source": [
    "columns =['店舗名','郵便番号','住所','電話番号']\n",
    "df = pd.DataFrame(index=[],columns=columns)\n",
    "shop_info =driver.find_elements(By.CLASS_NAME,'textBox')\n",
    "for shop in shop_info:\n",
    "    tenpo=shop.find_elements(By.CLASS_NAME,'txt')[0].text\n",
    "    post_code=  shop.find_elements(By.CLASS_NAME,'address')[0].text.split('\\n')[0]\n",
    "    address = shop.find_elements(By.CLASS_NAME,'address')[0].text.split('\\n')[1]\n",
    "    phone_element = shop.find_elements(By.CLASS_NAME,'wid')\n",
    "    if not phone_element:\n",
    "        phone_element = shop.find_elements(By.XPATH,'./ul/li')\n",
    "    phone = phone_element[0].text.split('\\n')[1]\n",
    "    #pandasSeriesの作成\n",
    "    transaction =[tenpo,post_code,address,phone]\n",
    "    record = pd.Series(transaction,index=df.columns)\n",
    "    df.loc[len(df)] = record"
   ]
  },
  {
   "cell_type": "code",
   "execution_count": 145,
   "metadata": {},
   "outputs": [
    {
     "data": {
      "text/html": [
       "<div>\n",
       "<style scoped>\n",
       "    .dataframe tbody tr th:only-of-type {\n",
       "        vertical-align: middle;\n",
       "    }\n",
       "\n",
       "    .dataframe tbody tr th {\n",
       "        vertical-align: top;\n",
       "    }\n",
       "\n",
       "    .dataframe thead th {\n",
       "        text-align: right;\n",
       "    }\n",
       "</style>\n",
       "<table border=\"1\" class=\"dataframe\">\n",
       "  <thead>\n",
       "    <tr style=\"text-align: right;\">\n",
       "      <th></th>\n",
       "      <th>店舗名</th>\n",
       "      <th>郵便番号</th>\n",
       "      <th>住所</th>\n",
       "      <th>電話番号</th>\n",
       "    </tr>\n",
       "  </thead>\n",
       "  <tbody>\n",
       "    <tr>\n",
       "      <th>0</th>\n",
       "      <td>札幌店</td>\n",
       "      <td>〒007-0861</td>\n",
       "      <td>北海道札幌市東区伏古一条4-1-1</td>\n",
       "      <td>0120-65-8190</td>\n",
       "    </tr>\n",
       "    <tr>\n",
       "      <th>1</th>\n",
       "      <td>盛岡店</td>\n",
       "      <td>〒020-0836</td>\n",
       "      <td>岩手県盛岡市津志田西2-17-50　盛岡南ショッピングセンターサンサ内</td>\n",
       "      <td>019-601-8190</td>\n",
       "    </tr>\n",
       "    <tr>\n",
       "      <th>2</th>\n",
       "      <td>仙台店</td>\n",
       "      <td>〒981-3117</td>\n",
       "      <td>宮城県仙台市泉区市名坂字黒木川原54-1</td>\n",
       "      <td>022-772-8190</td>\n",
       "    </tr>\n",
       "    <tr>\n",
       "      <th>3</th>\n",
       "      <td>ラパークいわき店</td>\n",
       "      <td>〒970-8044</td>\n",
       "      <td>福島県いわき市中央台飯野4-1（ラパークいわき内）</td>\n",
       "      <td>0246-38-9980</td>\n",
       "    </tr>\n",
       "    <tr>\n",
       "      <th>4</th>\n",
       "      <td>郡山店</td>\n",
       "      <td>〒963-8022</td>\n",
       "      <td>福島県郡山市西ノ内2-20-7</td>\n",
       "      <td>0120-65-8190</td>\n",
       "    </tr>\n",
       "    <tr>\n",
       "      <th>...</th>\n",
       "      <td>...</td>\n",
       "      <td>...</td>\n",
       "      <td>...</td>\n",
       "      <td>...</td>\n",
       "    </tr>\n",
       "    <tr>\n",
       "      <th>76</th>\n",
       "      <td>小倉店</td>\n",
       "      <td>〒802-0971</td>\n",
       "      <td>福岡県北九州市小倉南区守恒本町２丁目１−３３</td>\n",
       "      <td>0120-65-8190</td>\n",
       "    </tr>\n",
       "    <tr>\n",
       "      <th>77</th>\n",
       "      <td>Beat&amp;C 福岡マリナ店</td>\n",
       "      <td>〒819-0001</td>\n",
       "      <td>福岡県福岡市西区小戸３丁目５１−４７</td>\n",
       "      <td>0120-65-8190</td>\n",
       "    </tr>\n",
       "    <tr>\n",
       "      <th>78</th>\n",
       "      <td>熊本店</td>\n",
       "      <td>〒862-0963</td>\n",
       "      <td>熊本県熊本市南区出仲間7-15-15</td>\n",
       "      <td>0120-65-8190</td>\n",
       "    </tr>\n",
       "    <tr>\n",
       "      <th>79</th>\n",
       "      <td>上熊本店</td>\n",
       "      <td>〒860-0079</td>\n",
       "      <td>熊本県熊本市西区上熊本2-17−39</td>\n",
       "      <td>0120-65-8190</td>\n",
       "    </tr>\n",
       "    <tr>\n",
       "      <th>80</th>\n",
       "      <td>那覇店</td>\n",
       "      <td>〒900-0004</td>\n",
       "      <td>沖縄県那覇市銘苅266-3</td>\n",
       "      <td>0120-65-8190</td>\n",
       "    </tr>\n",
       "  </tbody>\n",
       "</table>\n",
       "<p>81 rows × 4 columns</p>\n",
       "</div>"
      ],
      "text/plain": [
       "              店舗名       郵便番号                                   住所  \\\n",
       "0             札幌店  〒007-0861                    北海道札幌市東区伏古一条4-1-1   \n",
       "1             盛岡店  〒020-0836  岩手県盛岡市津志田西2-17-50　盛岡南ショッピングセンターサンサ内   \n",
       "2             仙台店  〒981-3117                 宮城県仙台市泉区市名坂字黒木川原54-1   \n",
       "3        ラパークいわき店  〒970-8044            福島県いわき市中央台飯野4-1（ラパークいわき内）   \n",
       "4             郡山店  〒963-8022                      福島県郡山市西ノ内2-20-7   \n",
       "..            ...        ...                                  ...   \n",
       "76            小倉店  〒802-0971               福岡県北九州市小倉南区守恒本町２丁目１−３３   \n",
       "77  Beat&C 福岡マリナ店  〒819-0001                   福岡県福岡市西区小戸３丁目５１−４７   \n",
       "78            熊本店  〒862-0963                   熊本県熊本市南区出仲間7-15-15   \n",
       "79           上熊本店  〒860-0079                   熊本県熊本市西区上熊本2-17−39   \n",
       "80            那覇店  〒900-0004                        沖縄県那覇市銘苅266-3   \n",
       "\n",
       "            電話番号  \n",
       "0   0120-65-8190  \n",
       "1   019-601-8190  \n",
       "2   022-772-8190  \n",
       "3   0246-38-9980  \n",
       "4   0120-65-8190  \n",
       "..           ...  \n",
       "76  0120-65-8190  \n",
       "77  0120-65-8190  \n",
       "78  0120-65-8190  \n",
       "79  0120-65-8190  \n",
       "80  0120-65-8190  \n",
       "\n",
       "[81 rows x 4 columns]"
      ]
     },
     "execution_count": 145,
     "metadata": {},
     "output_type": "execute_result"
    }
   ],
   "source": [
    "df"
   ]
  },
  {
   "cell_type": "code",
   "execution_count": 147,
   "metadata": {},
   "outputs": [],
   "source": [
    "#数字を半角に変換\n",
    "def zen_to_han_number(text):\n",
    "    text = unicodedata.normalize('NFKC',text)\n",
    "    return text\n"
   ]
  },
  {
   "cell_type": "code",
   "execution_count": 148,
   "metadata": {},
   "outputs": [],
   "source": [
    "df['郵便番号']=df['郵便番号'].apply(zen_to_han_number)\n",
    "df['住所'] = df['住所'].apply(zen_to_han_number)\n",
    "df['電話番号']=df['電話番号'].apply(zen_to_han_number)"
   ]
  },
  {
   "cell_type": "code",
   "execution_count": 149,
   "metadata": {},
   "outputs": [
    {
     "data": {
      "text/html": [
       "<div>\n",
       "<style scoped>\n",
       "    .dataframe tbody tr th:only-of-type {\n",
       "        vertical-align: middle;\n",
       "    }\n",
       "\n",
       "    .dataframe tbody tr th {\n",
       "        vertical-align: top;\n",
       "    }\n",
       "\n",
       "    .dataframe thead th {\n",
       "        text-align: right;\n",
       "    }\n",
       "</style>\n",
       "<table border=\"1\" class=\"dataframe\">\n",
       "  <thead>\n",
       "    <tr style=\"text-align: right;\">\n",
       "      <th></th>\n",
       "      <th>店舗名</th>\n",
       "      <th>郵便番号</th>\n",
       "      <th>住所</th>\n",
       "      <th>電話番号</th>\n",
       "    </tr>\n",
       "  </thead>\n",
       "  <tbody>\n",
       "    <tr>\n",
       "      <th>0</th>\n",
       "      <td>札幌店</td>\n",
       "      <td>〒007-0861</td>\n",
       "      <td>北海道札幌市東区伏古一条4-1-1</td>\n",
       "      <td>0120-65-8190</td>\n",
       "    </tr>\n",
       "    <tr>\n",
       "      <th>1</th>\n",
       "      <td>盛岡店</td>\n",
       "      <td>〒020-0836</td>\n",
       "      <td>岩手県盛岡市津志田西2-17-50 盛岡南ショッピングセンターサンサ内</td>\n",
       "      <td>019-601-8190</td>\n",
       "    </tr>\n",
       "    <tr>\n",
       "      <th>2</th>\n",
       "      <td>仙台店</td>\n",
       "      <td>〒981-3117</td>\n",
       "      <td>宮城県仙台市泉区市名坂字黒木川原54-1</td>\n",
       "      <td>022-772-8190</td>\n",
       "    </tr>\n",
       "    <tr>\n",
       "      <th>3</th>\n",
       "      <td>ラパークいわき店</td>\n",
       "      <td>〒970-8044</td>\n",
       "      <td>福島県いわき市中央台飯野4-1(ラパークいわき内)</td>\n",
       "      <td>0246-38-9980</td>\n",
       "    </tr>\n",
       "    <tr>\n",
       "      <th>4</th>\n",
       "      <td>郡山店</td>\n",
       "      <td>〒963-8022</td>\n",
       "      <td>福島県郡山市西ノ内2-20-7</td>\n",
       "      <td>0120-65-8190</td>\n",
       "    </tr>\n",
       "    <tr>\n",
       "      <th>...</th>\n",
       "      <td>...</td>\n",
       "      <td>...</td>\n",
       "      <td>...</td>\n",
       "      <td>...</td>\n",
       "    </tr>\n",
       "    <tr>\n",
       "      <th>76</th>\n",
       "      <td>小倉店</td>\n",
       "      <td>〒802-0971</td>\n",
       "      <td>福岡県北九州市小倉南区守恒本町2丁目1−33</td>\n",
       "      <td>0120-65-8190</td>\n",
       "    </tr>\n",
       "    <tr>\n",
       "      <th>77</th>\n",
       "      <td>Beat&amp;C 福岡マリナ店</td>\n",
       "      <td>〒819-0001</td>\n",
       "      <td>福岡県福岡市西区小戸3丁目51−47</td>\n",
       "      <td>0120-65-8190</td>\n",
       "    </tr>\n",
       "    <tr>\n",
       "      <th>78</th>\n",
       "      <td>熊本店</td>\n",
       "      <td>〒862-0963</td>\n",
       "      <td>熊本県熊本市南区出仲間7-15-15</td>\n",
       "      <td>0120-65-8190</td>\n",
       "    </tr>\n",
       "    <tr>\n",
       "      <th>79</th>\n",
       "      <td>上熊本店</td>\n",
       "      <td>〒860-0079</td>\n",
       "      <td>熊本県熊本市西区上熊本2-17−39</td>\n",
       "      <td>0120-65-8190</td>\n",
       "    </tr>\n",
       "    <tr>\n",
       "      <th>80</th>\n",
       "      <td>那覇店</td>\n",
       "      <td>〒900-0004</td>\n",
       "      <td>沖縄県那覇市銘苅266-3</td>\n",
       "      <td>0120-65-8190</td>\n",
       "    </tr>\n",
       "  </tbody>\n",
       "</table>\n",
       "<p>81 rows × 4 columns</p>\n",
       "</div>"
      ],
      "text/plain": [
       "              店舗名       郵便番号                                   住所  \\\n",
       "0             札幌店  〒007-0861                    北海道札幌市東区伏古一条4-1-1   \n",
       "1             盛岡店  〒020-0836  岩手県盛岡市津志田西2-17-50 盛岡南ショッピングセンターサンサ内   \n",
       "2             仙台店  〒981-3117                 宮城県仙台市泉区市名坂字黒木川原54-1   \n",
       "3        ラパークいわき店  〒970-8044            福島県いわき市中央台飯野4-1(ラパークいわき内)   \n",
       "4             郡山店  〒963-8022                      福島県郡山市西ノ内2-20-7   \n",
       "..            ...        ...                                  ...   \n",
       "76            小倉店  〒802-0971               福岡県北九州市小倉南区守恒本町2丁目1−33   \n",
       "77  Beat&C 福岡マリナ店  〒819-0001                   福岡県福岡市西区小戸3丁目51−47   \n",
       "78            熊本店  〒862-0963                   熊本県熊本市南区出仲間7-15-15   \n",
       "79           上熊本店  〒860-0079                   熊本県熊本市西区上熊本2-17−39   \n",
       "80            那覇店  〒900-0004                        沖縄県那覇市銘苅266-3   \n",
       "\n",
       "            電話番号  \n",
       "0   0120-65-8190  \n",
       "1   019-601-8190  \n",
       "2   022-772-8190  \n",
       "3   0246-38-9980  \n",
       "4   0120-65-8190  \n",
       "..           ...  \n",
       "76  0120-65-8190  \n",
       "77  0120-65-8190  \n",
       "78  0120-65-8190  \n",
       "79  0120-65-8190  \n",
       "80  0120-65-8190  \n",
       "\n",
       "[81 rows x 4 columns]"
      ]
     },
     "execution_count": 149,
     "metadata": {},
     "output_type": "execute_result"
    }
   ],
   "source": [
    "df"
   ]
  },
  {
   "cell_type": "code",
   "execution_count": 153,
   "metadata": {},
   "outputs": [],
   "source": [
    "driver = webdriver.Chrome()\n",
    "driver.close\n",
    "url='https://www.8190.jp/shop/'\n",
    "driver.get(url)\n",
    "time.sleep(2)"
   ]
  },
  {
   "cell_type": "code",
   "execution_count": 171,
   "metadata": {},
   "outputs": [],
   "source": [
    "#関数化(pageclickがめんどくさい+店舗数は大きく変わるものではないので、driverで操作してから取得する)\n",
    "def tenpo_scrape(driver):\n",
    "    columns =['店舗名','郵便番号','住所','電話番号']\n",
    "    df = pd.DataFrame(index=[],columns=columns)\n",
    "    shop_info =driver.find_elements(By.CLASS_NAME,'textBox')\n",
    "    for shop in shop_info:\n",
    "        tenpo=shop.find_elements(By.CLASS_NAME,'txt')[0].text\n",
    "        post_code=  shop.find_elements(By.CLASS_NAME,'address')[0].text.split('\\n')[0]\n",
    "        address = shop.find_elements(By.CLASS_NAME,'address')[0].text.split('\\n')[1]\n",
    "        phone_element = shop.find_elements(By.CLASS_NAME,'wid')\n",
    "        if not phone_element:\n",
    "            phone_element = shop.find_elements(By.XPATH,'./ul/li')\n",
    "        phone = phone_element[0].text.split('\\n')[1]\n",
    "        #pandasSeriesの作成\n",
    "        transaction =[tenpo,post_code,address,phone]\n",
    "        record = pd.Series(transaction,index=df.columns)\n",
    "        df.loc[len(df)] = record\n",
    "        df['郵便番号']=df['郵便番号'].apply(zen_to_han_number)\n",
    "        df['住所'] = df['住所'].apply(zen_to_han_number)\n",
    "        df['電話番号']=df['電話番号'].apply(zen_to_han_number)\n",
    "        driver.close\n",
    "    return df\n"
   ]
  },
  {
   "cell_type": "code",
   "execution_count": 172,
   "metadata": {},
   "outputs": [],
   "source": [
    "df_other = tenpo_scrape(driver)"
   ]
  },
  {
   "cell_type": "code",
   "execution_count": 173,
   "metadata": {},
   "outputs": [
    {
     "data": {
      "text/html": [
       "<div>\n",
       "<style scoped>\n",
       "    .dataframe tbody tr th:only-of-type {\n",
       "        vertical-align: middle;\n",
       "    }\n",
       "\n",
       "    .dataframe tbody tr th {\n",
       "        vertical-align: top;\n",
       "    }\n",
       "\n",
       "    .dataframe thead th {\n",
       "        text-align: right;\n",
       "    }\n",
       "</style>\n",
       "<table border=\"1\" class=\"dataframe\">\n",
       "  <thead>\n",
       "    <tr style=\"text-align: right;\">\n",
       "      <th></th>\n",
       "      <th>店舗名</th>\n",
       "      <th>郵便番号</th>\n",
       "      <th>住所</th>\n",
       "      <th>電話番号</th>\n",
       "    </tr>\n",
       "  </thead>\n",
       "  <tbody>\n",
       "    <tr>\n",
       "      <th>0</th>\n",
       "      <td>Husqvarna Motorcycles いわき店</td>\n",
       "      <td>〒970-8044</td>\n",
       "      <td>福島県いわき市中央台飯野4-1(ラパークいわき内)</td>\n",
       "      <td>0246-38-9659</td>\n",
       "    </tr>\n",
       "    <tr>\n",
       "      <th>1</th>\n",
       "      <td>KTM小山</td>\n",
       "      <td>〒323-0824</td>\n",
       "      <td>栃木県小山市雨ケ谷新田69-1</td>\n",
       "      <td>0120-65-8190</td>\n",
       "    </tr>\n",
       "  </tbody>\n",
       "</table>\n",
       "</div>"
      ],
      "text/plain": [
       "                          店舗名       郵便番号                         住所  \\\n",
       "0  Husqvarna Motorcycles いわき店  〒970-8044  福島県いわき市中央台飯野4-1(ラパークいわき内)   \n",
       "1                       KTM小山  〒323-0824            栃木県小山市雨ケ谷新田69-1   \n",
       "\n",
       "           電話番号  \n",
       "0  0246-38-9659  \n",
       "1  0120-65-8190  "
      ]
     },
     "execution_count": 173,
     "metadata": {},
     "output_type": "execute_result"
    }
   ],
   "source": [
    "df_other"
   ]
  },
  {
   "cell_type": "code",
   "execution_count": 174,
   "metadata": {},
   "outputs": [],
   "source": [
    "df_join = pd.concat([df,df_other]).reset_index()"
   ]
  },
  {
   "cell_type": "code",
   "execution_count": 175,
   "metadata": {},
   "outputs": [],
   "source": [
    "df_join.drop(columns='index',inplace=True)"
   ]
  },
  {
   "cell_type": "markdown",
   "metadata": {},
   "source": [
    "df_joinのindexを店舗idとして使用する"
   ]
  },
  {
   "cell_type": "code",
   "execution_count": 176,
   "metadata": {},
   "outputs": [],
   "source": [
    "df_join['店舗id'] = df_join.index"
   ]
  },
  {
   "cell_type": "code",
   "execution_count": 177,
   "metadata": {},
   "outputs": [
    {
     "data": {
      "text/html": [
       "<div>\n",
       "<style scoped>\n",
       "    .dataframe tbody tr th:only-of-type {\n",
       "        vertical-align: middle;\n",
       "    }\n",
       "\n",
       "    .dataframe tbody tr th {\n",
       "        vertical-align: top;\n",
       "    }\n",
       "\n",
       "    .dataframe thead th {\n",
       "        text-align: right;\n",
       "    }\n",
       "</style>\n",
       "<table border=\"1\" class=\"dataframe\">\n",
       "  <thead>\n",
       "    <tr style=\"text-align: right;\">\n",
       "      <th></th>\n",
       "      <th>店舗名</th>\n",
       "      <th>郵便番号</th>\n",
       "      <th>住所</th>\n",
       "      <th>電話番号</th>\n",
       "      <th>店舗id</th>\n",
       "    </tr>\n",
       "  </thead>\n",
       "  <tbody>\n",
       "    <tr>\n",
       "      <th>0</th>\n",
       "      <td>札幌店</td>\n",
       "      <td>〒007-0861</td>\n",
       "      <td>北海道札幌市東区伏古一条4-1-1</td>\n",
       "      <td>0120-65-8190</td>\n",
       "      <td>0</td>\n",
       "    </tr>\n",
       "    <tr>\n",
       "      <th>1</th>\n",
       "      <td>盛岡店</td>\n",
       "      <td>〒020-0836</td>\n",
       "      <td>岩手県盛岡市津志田西2-17-50 盛岡南ショッピングセンターサンサ内</td>\n",
       "      <td>019-601-8190</td>\n",
       "      <td>1</td>\n",
       "    </tr>\n",
       "    <tr>\n",
       "      <th>2</th>\n",
       "      <td>仙台店</td>\n",
       "      <td>〒981-3117</td>\n",
       "      <td>宮城県仙台市泉区市名坂字黒木川原54-1</td>\n",
       "      <td>022-772-8190</td>\n",
       "      <td>2</td>\n",
       "    </tr>\n",
       "    <tr>\n",
       "      <th>3</th>\n",
       "      <td>ラパークいわき店</td>\n",
       "      <td>〒970-8044</td>\n",
       "      <td>福島県いわき市中央台飯野4-1(ラパークいわき内)</td>\n",
       "      <td>0246-38-9980</td>\n",
       "      <td>3</td>\n",
       "    </tr>\n",
       "    <tr>\n",
       "      <th>4</th>\n",
       "      <td>郡山店</td>\n",
       "      <td>〒963-8022</td>\n",
       "      <td>福島県郡山市西ノ内2-20-7</td>\n",
       "      <td>0120-65-8190</td>\n",
       "      <td>4</td>\n",
       "    </tr>\n",
       "    <tr>\n",
       "      <th>...</th>\n",
       "      <td>...</td>\n",
       "      <td>...</td>\n",
       "      <td>...</td>\n",
       "      <td>...</td>\n",
       "      <td>...</td>\n",
       "    </tr>\n",
       "    <tr>\n",
       "      <th>78</th>\n",
       "      <td>熊本店</td>\n",
       "      <td>〒862-0963</td>\n",
       "      <td>熊本県熊本市南区出仲間7-15-15</td>\n",
       "      <td>0120-65-8190</td>\n",
       "      <td>78</td>\n",
       "    </tr>\n",
       "    <tr>\n",
       "      <th>79</th>\n",
       "      <td>上熊本店</td>\n",
       "      <td>〒860-0079</td>\n",
       "      <td>熊本県熊本市西区上熊本2-17−39</td>\n",
       "      <td>0120-65-8190</td>\n",
       "      <td>79</td>\n",
       "    </tr>\n",
       "    <tr>\n",
       "      <th>80</th>\n",
       "      <td>那覇店</td>\n",
       "      <td>〒900-0004</td>\n",
       "      <td>沖縄県那覇市銘苅266-3</td>\n",
       "      <td>0120-65-8190</td>\n",
       "      <td>80</td>\n",
       "    </tr>\n",
       "    <tr>\n",
       "      <th>81</th>\n",
       "      <td>Husqvarna Motorcycles いわき店</td>\n",
       "      <td>〒970-8044</td>\n",
       "      <td>福島県いわき市中央台飯野4-1(ラパークいわき内)</td>\n",
       "      <td>0246-38-9659</td>\n",
       "      <td>81</td>\n",
       "    </tr>\n",
       "    <tr>\n",
       "      <th>82</th>\n",
       "      <td>KTM小山</td>\n",
       "      <td>〒323-0824</td>\n",
       "      <td>栃木県小山市雨ケ谷新田69-1</td>\n",
       "      <td>0120-65-8190</td>\n",
       "      <td>82</td>\n",
       "    </tr>\n",
       "  </tbody>\n",
       "</table>\n",
       "<p>83 rows × 5 columns</p>\n",
       "</div>"
      ],
      "text/plain": [
       "                           店舗名       郵便番号  \\\n",
       "0                          札幌店  〒007-0861   \n",
       "1                          盛岡店  〒020-0836   \n",
       "2                          仙台店  〒981-3117   \n",
       "3                     ラパークいわき店  〒970-8044   \n",
       "4                          郡山店  〒963-8022   \n",
       "..                         ...        ...   \n",
       "78                         熊本店  〒862-0963   \n",
       "79                        上熊本店  〒860-0079   \n",
       "80                         那覇店  〒900-0004   \n",
       "81  Husqvarna Motorcycles いわき店  〒970-8044   \n",
       "82                       KTM小山  〒323-0824   \n",
       "\n",
       "                                     住所          電話番号  店舗id  \n",
       "0                     北海道札幌市東区伏古一条4-1-1  0120-65-8190     0  \n",
       "1   岩手県盛岡市津志田西2-17-50 盛岡南ショッピングセンターサンサ内  019-601-8190     1  \n",
       "2                  宮城県仙台市泉区市名坂字黒木川原54-1  022-772-8190     2  \n",
       "3             福島県いわき市中央台飯野4-1(ラパークいわき内)  0246-38-9980     3  \n",
       "4                       福島県郡山市西ノ内2-20-7  0120-65-8190     4  \n",
       "..                                  ...           ...   ...  \n",
       "78                   熊本県熊本市南区出仲間7-15-15  0120-65-8190    78  \n",
       "79                   熊本県熊本市西区上熊本2-17−39  0120-65-8190    79  \n",
       "80                        沖縄県那覇市銘苅266-3  0120-65-8190    80  \n",
       "81            福島県いわき市中央台飯野4-1(ラパークいわき内)  0246-38-9659    81  \n",
       "82                      栃木県小山市雨ケ谷新田69-1  0120-65-8190    82  \n",
       "\n",
       "[83 rows x 5 columns]"
      ]
     },
     "execution_count": 177,
     "metadata": {},
     "output_type": "execute_result"
    }
   ],
   "source": [
    "df_join"
   ]
  },
  {
   "cell_type": "code",
   "execution_count": 178,
   "metadata": {},
   "outputs": [],
   "source": [
    "# df_join.to_csv('../data/tenpo_data.csv')"
   ]
  }
 ],
 "metadata": {
  "kernelspec": {
   "display_name": "python310",
   "language": "python",
   "name": "python3"
  },
  "language_info": {
   "codemirror_mode": {
    "name": "ipython",
    "version": 3
   },
   "file_extension": ".py",
   "mimetype": "text/x-python",
   "name": "python",
   "nbconvert_exporter": "python",
   "pygments_lexer": "ipython3",
   "version": "3.10.12"
  },
  "orig_nbformat": 4
 },
 "nbformat": 4,
 "nbformat_minor": 2
}
