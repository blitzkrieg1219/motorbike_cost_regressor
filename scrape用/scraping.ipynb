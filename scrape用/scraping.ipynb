{
 "cells": [
  {
   "cell_type": "code",
   "execution_count": 1,
   "metadata": {},
   "outputs": [],
   "source": [
    "import pandas as pd\n",
    "import requests\n",
    "from bs4 import BeautifulSoup\n",
    "import re\n",
    "import time\n",
    "from tqdm import tqdm\n",
    "from selenium import webdriver\n",
    "import chromedriver_binary\n",
    "from selenium.webdriver.common.by import By\n",
    "from selenium.webdriver.common.keys import Keys\n",
    "from selenium.webdriver.support.ui import WebDriverWait\n",
    "from selenium.webdriver.support import expected_conditions as EC\n",
    "# 例外処理用のlibraryをimport\n",
    "from selenium.common.exceptions import NoSuchElementException\n",
    "from tqdm import tqdm\n",
    "\n",
    "import scrape"
   ]
  },
  {
   "cell_type": "markdown",
   "metadata": {},
   "source": [
    "下記のurlよりバイクの個体IDを取得する。  \n",
    "https://www.8190.jp/wish/ds/bike/search/  \n",
    "動的webページのためseleniumを使用しデータを取得  \n",
    "pyファイルに用意したモジュールを使用"
   ]
  },
  {
   "cell_type": "code",
   "execution_count": 2,
   "metadata": {},
   "outputs": [],
   "source": [
    "#実際に全てのidの取得をする際は関数化をする前のnotebookにて実行をしたため、動作確認\n",
    "id_list=scrape.id_scraping(url ='https://www.8190.jp/wish/ds/bike/search/')"
   ]
  },
  {
   "cell_type": "markdown",
   "metadata": {},
   "source": [
    "上記id_listから下記のurlのような個別ページから情報を取得。  \n",
    "https://www.8190.jp/wish/ds/bike/2100006298482/ この下13桁がidと一致  \n",
    "id_listから各バイクのデータを取得する\n"
   ]
  },
  {
   "cell_type": "code",
   "execution_count": 3,
   "metadata": {},
   "outputs": [
    {
     "name": "stderr",
     "output_type": "stream",
     "text": [
      "  5%|▍         | 4/81 [00:55<17:54, 13.96s/it]\n"
     ]
    }
   ],
   "source": [
    "#上記同様実際に取得したデータはテスト時に取得してしまったため動作確認のみ\n",
    "df = scrape.bike_info_scrape(id_list)"
   ]
  },
  {
   "cell_type": "code",
   "execution_count": 4,
   "metadata": {},
   "outputs": [
    {
     "data": {
      "text/html": [
       "<div>\n",
       "<style scoped>\n",
       "    .dataframe tbody tr th:only-of-type {\n",
       "        vertical-align: middle;\n",
       "    }\n",
       "\n",
       "    .dataframe tbody tr th {\n",
       "        vertical-align: top;\n",
       "    }\n",
       "\n",
       "    .dataframe thead th {\n",
       "        text-align: right;\n",
       "    }\n",
       "</style>\n",
       "<table border=\"1\" class=\"dataframe\">\n",
       "  <thead>\n",
       "    <tr style=\"text-align: right;\">\n",
       "      <th></th>\n",
       "      <th>id</th>\n",
       "      <th>価格</th>\n",
       "      <th>車両名</th>\n",
       "      <th>メーカー</th>\n",
       "      <th>型式番号</th>\n",
       "      <th>モデル年</th>\n",
       "      <th>排気量</th>\n",
       "      <th>色</th>\n",
       "      <th>タイプ</th>\n",
       "      <th>走行距離</th>\n",
       "      <th>保証期間</th>\n",
       "      <th>初年度登録年月</th>\n",
       "      <th>次回車検</th>\n",
       "      <th>入荷日</th>\n",
       "      <th>在庫店舗</th>\n",
       "      <th>在庫店舗電話</th>\n",
       "      <th>備考</th>\n",
       "    </tr>\n",
       "  </thead>\n",
       "  <tbody>\n",
       "    <tr>\n",
       "      <th>0</th>\n",
       "      <td>2100006413298</td>\n",
       "      <td>958000</td>\n",
       "      <td>YAMAHA MT-09 ABS</td>\n",
       "      <td>YAMAHA</td>\n",
       "      <td>2BL-RN52J</td>\n",
       "      <td>2017</td>\n",
       "      <td>900</td>\n",
       "      <td>緑</td>\n",
       "      <td>ネイキッド</td>\n",
       "      <td>7856</td>\n",
       "      <td>3</td>\n",
       "      <td>2017-06</td>\n",
       "      <td>-</td>\n",
       "      <td>2023-11-27</td>\n",
       "      <td>草加店</td>\n",
       "      <td>0120-37-8190</td>\n",
       "      <td>[2017年モデル／RN52J型/スペアキーあり！!]</td>\n",
       "    </tr>\n",
       "    <tr>\n",
       "      <th>1</th>\n",
       "      <td>2100006401509</td>\n",
       "      <td>478000</td>\n",
       "      <td>HONDA ADV150</td>\n",
       "      <td>HONDA</td>\n",
       "      <td>2BK-KF38</td>\n",
       "      <td>2020</td>\n",
       "      <td>150</td>\n",
       "      <td>マットメテオライトブラウンメタリック</td>\n",
       "      <td>スクーター/ビッグスクーター</td>\n",
       "      <td>4013</td>\n",
       "      <td>5</td>\n",
       "      <td>2020-05</td>\n",
       "      <td>-</td>\n",
       "      <td>2023-11-25</td>\n",
       "      <td>綾瀬店</td>\n",
       "      <td>0120-37-8190</td>\n",
       "      <td>[ABS, 2020年モデル, １オーナー！!]</td>\n",
       "    </tr>\n",
       "    <tr>\n",
       "      <th>2</th>\n",
       "      <td>2100006394474</td>\n",
       "      <td>948000</td>\n",
       "      <td>HONDA CBR650R</td>\n",
       "      <td>HONDA</td>\n",
       "      <td>2BL-RH03</td>\n",
       "      <td>2019</td>\n",
       "      <td>650</td>\n",
       "      <td>黒</td>\n",
       "      <td>スポーツ/ツアラー</td>\n",
       "      <td>952</td>\n",
       "      <td>5</td>\n",
       "      <td>2020-06</td>\n",
       "      <td>-</td>\n",
       "      <td>2023-11-24</td>\n",
       "      <td>草加店</td>\n",
       "      <td>0120-37-8190</td>\n",
       "      <td>[2019年モデル／RH03型/スペアキーあり！!]</td>\n",
       "    </tr>\n",
       "    <tr>\n",
       "      <th>3</th>\n",
       "      <td>2100006393125</td>\n",
       "      <td>378000</td>\n",
       "      <td>HONDA PCX-4</td>\n",
       "      <td>HONDA</td>\n",
       "      <td>2BJ-JK05</td>\n",
       "      <td>2021</td>\n",
       "      <td>125</td>\n",
       "      <td>白</td>\n",
       "      <td>スクーター/ビッグスクーター</td>\n",
       "      <td>19</td>\n",
       "      <td>-</td>\n",
       "      <td>-</td>\n",
       "      <td>-</td>\n",
       "      <td>2023-11-24</td>\n",
       "      <td>京都松井山手店</td>\n",
       "      <td>0120-37-8190</td>\n",
       "      <td>[ABS, 2021年モデル, 純正大型スクリーン・グリップヒーター装備！！!]</td>\n",
       "    </tr>\n",
       "  </tbody>\n",
       "</table>\n",
       "</div>"
      ],
      "text/plain": [
       "              id      価格               車両名    メーカー       型式番号  モデル年  排気量  \\\n",
       "0  2100006413298  958000  YAMAHA MT-09 ABS  YAMAHA  2BL-RN52J  2017  900   \n",
       "1  2100006401509  478000      HONDA ADV150   HONDA   2BK-KF38  2020  150   \n",
       "2  2100006394474  948000     HONDA CBR650R   HONDA   2BL-RH03  2019  650   \n",
       "3  2100006393125  378000       HONDA PCX-4   HONDA   2BJ-JK05  2021  125   \n",
       "\n",
       "                    色             タイプ  走行距離 保証期間  初年度登録年月 次回車検         入荷日  \\\n",
       "0                   緑           ネイキッド  7856    3  2017-06    -  2023-11-27   \n",
       "1  マットメテオライトブラウンメタリック  スクーター/ビッグスクーター  4013    5  2020-05    -  2023-11-25   \n",
       "2                   黒       スポーツ/ツアラー   952    5  2020-06    -  2023-11-24   \n",
       "3                   白  スクーター/ビッグスクーター    19    -        -    -  2023-11-24   \n",
       "\n",
       "      在庫店舗        在庫店舗電話                                        備考  \n",
       "0      草加店  0120-37-8190               [2017年モデル／RN52J型/スペアキーあり！!]  \n",
       "1      綾瀬店  0120-37-8190                  [ABS, 2020年モデル, １オーナー！!]  \n",
       "2      草加店  0120-37-8190                [2019年モデル／RH03型/スペアキーあり！!]  \n",
       "3  京都松井山手店  0120-37-8190  [ABS, 2021年モデル, 純正大型スクリーン・グリップヒーター装備！！!]  "
      ]
     },
     "execution_count": 4,
     "metadata": {},
     "output_type": "execute_result"
    }
   ],
   "source": [
    "df"
   ]
  },
  {
   "cell_type": "code",
   "execution_count": null,
   "metadata": {},
   "outputs": [],
   "source": []
  }
 ],
 "metadata": {
  "kernelspec": {
   "display_name": "python310",
   "language": "python",
   "name": "python3"
  },
  "language_info": {
   "codemirror_mode": {
    "name": "ipython",
    "version": 3
   },
   "file_extension": ".py",
   "mimetype": "text/x-python",
   "name": "python",
   "nbconvert_exporter": "python",
   "pygments_lexer": "ipython3",
   "version": "3.10.12"
  },
  "orig_nbformat": 4
 },
 "nbformat": 4,
 "nbformat_minor": 2
}
