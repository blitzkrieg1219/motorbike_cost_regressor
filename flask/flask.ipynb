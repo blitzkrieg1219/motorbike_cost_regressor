{
 "cells": [
  {
   "cell_type": "code",
   "execution_count": 1,
   "metadata": {},
   "outputs": [],
   "source": [
    "import pickle\n",
    "import os\n",
    "\n",
    "from sklearn.metrics import r2_score\n",
    "import pandas as pd\n"
   ]
  },
  {
   "cell_type": "markdown",
   "metadata": {},
   "source": [
    "# モデルの読み込み"
   ]
  },
  {
   "cell_type": "code",
   "execution_count": 2,
   "metadata": {},
   "outputs": [
    {
     "name": "stderr",
     "output_type": "stream",
     "text": [
      "/Users/arimitsushuntarou/Downloads/yes/envs/bikeflask/lib/python3.10/site-packages/sklearn/base.py:348: InconsistentVersionWarning: Trying to unpickle estimator DecisionTreeRegressor from version 1.3.0 when using version 1.3.2. This might lead to breaking code or invalid results. Use at your own risk. For more info please refer to:\n",
      "https://scikit-learn.org/stable/model_persistence.html#security-maintainability-limitations\n",
      "  warnings.warn(\n",
      "/Users/arimitsushuntarou/Downloads/yes/envs/bikeflask/lib/python3.10/site-packages/sklearn/base.py:348: InconsistentVersionWarning: Trying to unpickle estimator RandomForestRegressor from version 1.3.0 when using version 1.3.2. This might lead to breaking code or invalid results. Use at your own risk. For more info please refer to:\n",
      "https://scikit-learn.org/stable/model_persistence.html#security-maintainability-limitations\n",
      "  warnings.warn(\n"
     ]
    }
   ],
   "source": [
    "rf = pickle.load(open(os.path.join('regressor.pkl'),'rb'))"
   ]
  },
  {
   "cell_type": "code",
   "execution_count": 3,
   "metadata": {},
   "outputs": [],
   "source": [
    "#データの読み込み\n",
    "train_data = pd.read_csv(\"../data/機械学習用/train_data.csv\",index_col=0)\n",
    "model_data = pd.read_csv('../data/アップロード用/model_data.csv',index_col=0)\n",
    "info_data = pd.read_csv('../data/アップロード用/bike_info.csv',index_col=0)\n",
    "#サンプルサイズが少ないモデルを抽出\n",
    "all_data = info_data.merge(model_data,on='model_number',how='left')\n",
    "brand_count = all_data.groupby('brand').size().sort_values(ascending=True)\n",
    "#下位10メーカーを抽出(上のcountデータがすでに照準のため上から９つを抽出する)\n",
    "low_10 = brand_count.index[0:10]\n",
    "model_data = model_data[~model_data['brand'].isin(low_10)]\n",
    "#このメーカーデータを使ってtrainデータに結合\n",
    "train_data = train_data.merge(model_data,on='model_number',how='left')\n",
    "#先ほど外れ値に指定したデータはnullになるため、dropnaをすればok\n",
    "train_data.dropna(inplace=True)\n",
    "test_data = pd.read_csv('../data/機械学習用/test_data.csv',index_col=0)\n",
    "test_data=test_data.merge(model_data,on='model_number',how='left')\n",
    "test_data.dropna(inplace=True)\n",
    "#ダミーエンコーディング\n",
    "#エンコーディングしたい列\n",
    "encoding_target = ['color','brand','type']\n",
    "train_data=pd.get_dummies(train_data,drop_first=True,columns=encoding_target)\n",
    "#ラベルエンコーディングを反映\n",
    "test_data=pd.get_dummies(test_data,drop_first=True,columns=encoding_target)\n",
    "X_test=test_data.iloc[:,2:].drop(columns=['name','model_number','store_id']).values\n",
    "y_test = test_data['cost'].values"
   ]
  },
  {
   "cell_type": "code",
   "execution_count": 4,
   "metadata": {},
   "outputs": [
    {
     "data": {
      "text/html": [
       "<style>#sk-container-id-1 {color: black;}#sk-container-id-1 pre{padding: 0;}#sk-container-id-1 div.sk-toggleable {background-color: white;}#sk-container-id-1 label.sk-toggleable__label {cursor: pointer;display: block;width: 100%;margin-bottom: 0;padding: 0.3em;box-sizing: border-box;text-align: center;}#sk-container-id-1 label.sk-toggleable__label-arrow:before {content: \"▸\";float: left;margin-right: 0.25em;color: #696969;}#sk-container-id-1 label.sk-toggleable__label-arrow:hover:before {color: black;}#sk-container-id-1 div.sk-estimator:hover label.sk-toggleable__label-arrow:before {color: black;}#sk-container-id-1 div.sk-toggleable__content {max-height: 0;max-width: 0;overflow: hidden;text-align: left;background-color: #f0f8ff;}#sk-container-id-1 div.sk-toggleable__content pre {margin: 0.2em;color: black;border-radius: 0.25em;background-color: #f0f8ff;}#sk-container-id-1 input.sk-toggleable__control:checked~div.sk-toggleable__content {max-height: 200px;max-width: 100%;overflow: auto;}#sk-container-id-1 input.sk-toggleable__control:checked~label.sk-toggleable__label-arrow:before {content: \"▾\";}#sk-container-id-1 div.sk-estimator input.sk-toggleable__control:checked~label.sk-toggleable__label {background-color: #d4ebff;}#sk-container-id-1 div.sk-label input.sk-toggleable__control:checked~label.sk-toggleable__label {background-color: #d4ebff;}#sk-container-id-1 input.sk-hidden--visually {border: 0;clip: rect(1px 1px 1px 1px);clip: rect(1px, 1px, 1px, 1px);height: 1px;margin: -1px;overflow: hidden;padding: 0;position: absolute;width: 1px;}#sk-container-id-1 div.sk-estimator {font-family: monospace;background-color: #f0f8ff;border: 1px dotted black;border-radius: 0.25em;box-sizing: border-box;margin-bottom: 0.5em;}#sk-container-id-1 div.sk-estimator:hover {background-color: #d4ebff;}#sk-container-id-1 div.sk-parallel-item::after {content: \"\";width: 100%;border-bottom: 1px solid gray;flex-grow: 1;}#sk-container-id-1 div.sk-label:hover label.sk-toggleable__label {background-color: #d4ebff;}#sk-container-id-1 div.sk-serial::before {content: \"\";position: absolute;border-left: 1px solid gray;box-sizing: border-box;top: 0;bottom: 0;left: 50%;z-index: 0;}#sk-container-id-1 div.sk-serial {display: flex;flex-direction: column;align-items: center;background-color: white;padding-right: 0.2em;padding-left: 0.2em;position: relative;}#sk-container-id-1 div.sk-item {position: relative;z-index: 1;}#sk-container-id-1 div.sk-parallel {display: flex;align-items: stretch;justify-content: center;background-color: white;position: relative;}#sk-container-id-1 div.sk-item::before, #sk-container-id-1 div.sk-parallel-item::before {content: \"\";position: absolute;border-left: 1px solid gray;box-sizing: border-box;top: 0;bottom: 0;left: 50%;z-index: -1;}#sk-container-id-1 div.sk-parallel-item {display: flex;flex-direction: column;z-index: 1;position: relative;background-color: white;}#sk-container-id-1 div.sk-parallel-item:first-child::after {align-self: flex-end;width: 50%;}#sk-container-id-1 div.sk-parallel-item:last-child::after {align-self: flex-start;width: 50%;}#sk-container-id-1 div.sk-parallel-item:only-child::after {width: 0;}#sk-container-id-1 div.sk-dashed-wrapped {border: 1px dashed gray;margin: 0 0.4em 0.5em 0.4em;box-sizing: border-box;padding-bottom: 0.4em;background-color: white;}#sk-container-id-1 div.sk-label label {font-family: monospace;font-weight: bold;display: inline-block;line-height: 1.2em;}#sk-container-id-1 div.sk-label-container {text-align: center;}#sk-container-id-1 div.sk-container {/* jupyter's `normalize.less` sets `[hidden] { display: none; }` but bootstrap.min.css set `[hidden] { display: none !important; }` so we also need the `!important` here to be able to override the default hidden behavior on the sphinx rendered scikit-learn.org. See: https://github.com/scikit-learn/scikit-learn/issues/21755 */display: inline-block !important;position: relative;}#sk-container-id-1 div.sk-text-repr-fallback {display: none;}</style><div id=\"sk-container-id-1\" class=\"sk-top-container\"><div class=\"sk-text-repr-fallback\"><pre>RandomForestRegressor(bootstrap=False, max_depth=34,\n",
       "                      max_features=0.5967285924743135, max_leaf_nodes=751,\n",
       "                      min_samples_leaf=2, min_samples_split=3, n_estimators=85,\n",
       "                      random_state=0)</pre><b>In a Jupyter environment, please rerun this cell to show the HTML representation or trust the notebook. <br />On GitHub, the HTML representation is unable to render, please try loading this page with nbviewer.org.</b></div><div class=\"sk-container\" hidden><div class=\"sk-item\"><div class=\"sk-estimator sk-toggleable\"><input class=\"sk-toggleable__control sk-hidden--visually\" id=\"sk-estimator-id-1\" type=\"checkbox\" checked><label for=\"sk-estimator-id-1\" class=\"sk-toggleable__label sk-toggleable__label-arrow\">RandomForestRegressor</label><div class=\"sk-toggleable__content\"><pre>RandomForestRegressor(bootstrap=False, max_depth=34,\n",
       "                      max_features=0.5967285924743135, max_leaf_nodes=751,\n",
       "                      min_samples_leaf=2, min_samples_split=3, n_estimators=85,\n",
       "                      random_state=0)</pre></div></div></div></div></div>"
      ],
      "text/plain": [
       "RandomForestRegressor(bootstrap=False, max_depth=34,\n",
       "                      max_features=0.5967285924743135, max_leaf_nodes=751,\n",
       "                      min_samples_leaf=2, min_samples_split=3, n_estimators=85,\n",
       "                      random_state=0)"
      ]
     },
     "execution_count": 4,
     "metadata": {},
     "output_type": "execute_result"
    }
   ],
   "source": [
    "rf"
   ]
  },
  {
   "cell_type": "code",
   "execution_count": 5,
   "metadata": {},
   "outputs": [
    {
     "data": {
      "text/plain": [
       "0.9730308296131362"
      ]
     },
     "execution_count": 5,
     "metadata": {},
     "output_type": "execute_result"
    }
   ],
   "source": [
    "#チューニングをしたrandomforestモデルが持って来れる\n",
    "predict_test = rf.predict(X_test)\n",
    "r2_score(y_true=y_test,y_pred=predict_test)"
   ]
  },
  {
   "cell_type": "code",
   "execution_count": 6,
   "metadata": {},
   "outputs": [
    {
     "data": {
      "text/html": [
       "<div>\n",
       "<style scoped>\n",
       "    .dataframe tbody tr th:only-of-type {\n",
       "        vertical-align: middle;\n",
       "    }\n",
       "\n",
       "    .dataframe tbody tr th {\n",
       "        vertical-align: top;\n",
       "    }\n",
       "\n",
       "    .dataframe thead th {\n",
       "        text-align: right;\n",
       "    }\n",
       "</style>\n",
       "<table border=\"1\" class=\"dataframe\">\n",
       "  <thead>\n",
       "    <tr style=\"text-align: right;\">\n",
       "      <th></th>\n",
       "      <th>id</th>\n",
       "      <th>cost</th>\n",
       "      <th>model_number</th>\n",
       "      <th>model_year</th>\n",
       "      <th>mileage</th>\n",
       "      <th>guarantee_period</th>\n",
       "      <th>store_id</th>\n",
       "      <th>name</th>\n",
       "      <th>displacement</th>\n",
       "      <th>color_ピンク</th>\n",
       "      <th>...</th>\n",
       "      <th>brand_Husqvarna</th>\n",
       "      <th>brand_KAWASAKI</th>\n",
       "      <th>brand_KTM</th>\n",
       "      <th>brand_SUZUKI</th>\n",
       "      <th>brand_Triumph</th>\n",
       "      <th>brand_YAMAHA</th>\n",
       "      <th>type_オフロード/モタード</th>\n",
       "      <th>type_スクーター/ビッグスクーター</th>\n",
       "      <th>type_スポーツ/ツアラー</th>\n",
       "      <th>type_ネイキッド</th>\n",
       "    </tr>\n",
       "  </thead>\n",
       "  <tbody>\n",
       "    <tr>\n",
       "      <th>0</th>\n",
       "      <td>2100006178999</td>\n",
       "      <td>388000</td>\n",
       "      <td>2BK-DN11A</td>\n",
       "      <td>2021.0</td>\n",
       "      <td>5034.0</td>\n",
       "      <td>5</td>\n",
       "      <td>63</td>\n",
       "      <td>GSX250R</td>\n",
       "      <td>250.0</td>\n",
       "      <td>False</td>\n",
       "      <td>...</td>\n",
       "      <td>False</td>\n",
       "      <td>False</td>\n",
       "      <td>False</td>\n",
       "      <td>True</td>\n",
       "      <td>False</td>\n",
       "      <td>False</td>\n",
       "      <td>False</td>\n",
       "      <td>False</td>\n",
       "      <td>True</td>\n",
       "      <td>False</td>\n",
       "    </tr>\n",
       "    <tr>\n",
       "      <th>1</th>\n",
       "      <td>2100005344975</td>\n",
       "      <td>1480000</td>\n",
       "      <td>2BL-ZR900C</td>\n",
       "      <td>2020.0</td>\n",
       "      <td>8354.0</td>\n",
       "      <td>5</td>\n",
       "      <td>50</td>\n",
       "      <td>Z900RS</td>\n",
       "      <td>950.0</td>\n",
       "      <td>False</td>\n",
       "      <td>...</td>\n",
       "      <td>False</td>\n",
       "      <td>True</td>\n",
       "      <td>False</td>\n",
       "      <td>False</td>\n",
       "      <td>False</td>\n",
       "      <td>False</td>\n",
       "      <td>False</td>\n",
       "      <td>False</td>\n",
       "      <td>False</td>\n",
       "      <td>True</td>\n",
       "    </tr>\n",
       "    <tr>\n",
       "      <th>2</th>\n",
       "      <td>2100006036176</td>\n",
       "      <td>148000</td>\n",
       "      <td>JBH-SA52J</td>\n",
       "      <td>2016.0</td>\n",
       "      <td>11896.0</td>\n",
       "      <td>3</td>\n",
       "      <td>50</td>\n",
       "      <td>VOX</td>\n",
       "      <td>50.0</td>\n",
       "      <td>False</td>\n",
       "      <td>...</td>\n",
       "      <td>False</td>\n",
       "      <td>False</td>\n",
       "      <td>False</td>\n",
       "      <td>False</td>\n",
       "      <td>False</td>\n",
       "      <td>True</td>\n",
       "      <td>False</td>\n",
       "      <td>True</td>\n",
       "      <td>False</td>\n",
       "      <td>False</td>\n",
       "    </tr>\n",
       "    <tr>\n",
       "      <th>3</th>\n",
       "      <td>2100005759090</td>\n",
       "      <td>1428000</td>\n",
       "      <td>JD5</td>\n",
       "      <td>2010.0</td>\n",
       "      <td>15498.0</td>\n",
       "      <td>3</td>\n",
       "      <td>27</td>\n",
       "      <td>FLSTN1580</td>\n",
       "      <td>1580.0</td>\n",
       "      <td>False</td>\n",
       "      <td>...</td>\n",
       "      <td>False</td>\n",
       "      <td>False</td>\n",
       "      <td>False</td>\n",
       "      <td>False</td>\n",
       "      <td>False</td>\n",
       "      <td>False</td>\n",
       "      <td>False</td>\n",
       "      <td>False</td>\n",
       "      <td>False</td>\n",
       "      <td>False</td>\n",
       "    </tr>\n",
       "    <tr>\n",
       "      <th>4</th>\n",
       "      <td>2100006282986</td>\n",
       "      <td>1100000</td>\n",
       "      <td>2BL-NC42</td>\n",
       "      <td>2020.0</td>\n",
       "      <td>12067.0</td>\n",
       "      <td>3</td>\n",
       "      <td>65</td>\n",
       "      <td>CB400 SUPER FOUR HYPER VTEC Revo</td>\n",
       "      <td>400.0</td>\n",
       "      <td>False</td>\n",
       "      <td>...</td>\n",
       "      <td>False</td>\n",
       "      <td>False</td>\n",
       "      <td>False</td>\n",
       "      <td>False</td>\n",
       "      <td>False</td>\n",
       "      <td>False</td>\n",
       "      <td>False</td>\n",
       "      <td>False</td>\n",
       "      <td>False</td>\n",
       "      <td>True</td>\n",
       "    </tr>\n",
       "    <tr>\n",
       "      <th>...</th>\n",
       "      <td>...</td>\n",
       "      <td>...</td>\n",
       "      <td>...</td>\n",
       "      <td>...</td>\n",
       "      <td>...</td>\n",
       "      <td>...</td>\n",
       "      <td>...</td>\n",
       "      <td>...</td>\n",
       "      <td>...</td>\n",
       "      <td>...</td>\n",
       "      <td>...</td>\n",
       "      <td>...</td>\n",
       "      <td>...</td>\n",
       "      <td>...</td>\n",
       "      <td>...</td>\n",
       "      <td>...</td>\n",
       "      <td>...</td>\n",
       "      <td>...</td>\n",
       "      <td>...</td>\n",
       "      <td>...</td>\n",
       "      <td>...</td>\n",
       "    </tr>\n",
       "    <tr>\n",
       "      <th>1117</th>\n",
       "      <td>2100005863018</td>\n",
       "      <td>498000</td>\n",
       "      <td>2BL-RH13J</td>\n",
       "      <td>2018.0</td>\n",
       "      <td>3371.0</td>\n",
       "      <td>5</td>\n",
       "      <td>46</td>\n",
       "      <td>YZFR3</td>\n",
       "      <td>320.0</td>\n",
       "      <td>False</td>\n",
       "      <td>...</td>\n",
       "      <td>False</td>\n",
       "      <td>False</td>\n",
       "      <td>False</td>\n",
       "      <td>False</td>\n",
       "      <td>False</td>\n",
       "      <td>True</td>\n",
       "      <td>False</td>\n",
       "      <td>False</td>\n",
       "      <td>False</td>\n",
       "      <td>True</td>\n",
       "    </tr>\n",
       "    <tr>\n",
       "      <th>1118</th>\n",
       "      <td>2100005567510</td>\n",
       "      <td>588000</td>\n",
       "      <td>2BL-NC59</td>\n",
       "      <td>2021.0</td>\n",
       "      <td>21834.0</td>\n",
       "      <td>1</td>\n",
       "      <td>13</td>\n",
       "      <td>GB350</td>\n",
       "      <td>350.0</td>\n",
       "      <td>False</td>\n",
       "      <td>...</td>\n",
       "      <td>False</td>\n",
       "      <td>False</td>\n",
       "      <td>False</td>\n",
       "      <td>False</td>\n",
       "      <td>False</td>\n",
       "      <td>False</td>\n",
       "      <td>False</td>\n",
       "      <td>False</td>\n",
       "      <td>False</td>\n",
       "      <td>True</td>\n",
       "    </tr>\n",
       "    <tr>\n",
       "      <th>1119</th>\n",
       "      <td>2100006115840</td>\n",
       "      <td>2898000</td>\n",
       "      <td>2BL-FLC</td>\n",
       "      <td>2018.0</td>\n",
       "      <td>8920.0</td>\n",
       "      <td>5</td>\n",
       "      <td>36</td>\n",
       "      <td>FLTRX1750Road Glide Special</td>\n",
       "      <td>1750.0</td>\n",
       "      <td>False</td>\n",
       "      <td>...</td>\n",
       "      <td>False</td>\n",
       "      <td>False</td>\n",
       "      <td>False</td>\n",
       "      <td>False</td>\n",
       "      <td>False</td>\n",
       "      <td>False</td>\n",
       "      <td>False</td>\n",
       "      <td>False</td>\n",
       "      <td>False</td>\n",
       "      <td>False</td>\n",
       "    </tr>\n",
       "    <tr>\n",
       "      <th>1120</th>\n",
       "      <td>2100005856706</td>\n",
       "      <td>1368000</td>\n",
       "      <td>LC3</td>\n",
       "      <td>2011.0</td>\n",
       "      <td>14216.0</td>\n",
       "      <td>3</td>\n",
       "      <td>1</td>\n",
       "      <td>XL1200X</td>\n",
       "      <td>1200.0</td>\n",
       "      <td>False</td>\n",
       "      <td>...</td>\n",
       "      <td>False</td>\n",
       "      <td>False</td>\n",
       "      <td>False</td>\n",
       "      <td>False</td>\n",
       "      <td>False</td>\n",
       "      <td>False</td>\n",
       "      <td>False</td>\n",
       "      <td>False</td>\n",
       "      <td>False</td>\n",
       "      <td>False</td>\n",
       "    </tr>\n",
       "    <tr>\n",
       "      <th>1121</th>\n",
       "      <td>2100005422826</td>\n",
       "      <td>1048000</td>\n",
       "      <td>GY4</td>\n",
       "      <td>2010.0</td>\n",
       "      <td>21583.0</td>\n",
       "      <td>3</td>\n",
       "      <td>77</td>\n",
       "      <td>Dyna Fat Bob  FXDF1580</td>\n",
       "      <td>1584.0</td>\n",
       "      <td>False</td>\n",
       "      <td>...</td>\n",
       "      <td>False</td>\n",
       "      <td>False</td>\n",
       "      <td>False</td>\n",
       "      <td>False</td>\n",
       "      <td>False</td>\n",
       "      <td>False</td>\n",
       "      <td>False</td>\n",
       "      <td>False</td>\n",
       "      <td>False</td>\n",
       "      <td>False</td>\n",
       "    </tr>\n",
       "  </tbody>\n",
       "</table>\n",
       "<p>1119 rows × 33 columns</p>\n",
       "</div>"
      ],
      "text/plain": [
       "                 id     cost model_number  model_year  mileage  \\\n",
       "0     2100006178999   388000    2BK-DN11A      2021.0   5034.0   \n",
       "1     2100005344975  1480000   2BL-ZR900C      2020.0   8354.0   \n",
       "2     2100006036176   148000    JBH-SA52J      2016.0  11896.0   \n",
       "3     2100005759090  1428000          JD5      2010.0  15498.0   \n",
       "4     2100006282986  1100000     2BL-NC42      2020.0  12067.0   \n",
       "...             ...      ...          ...         ...      ...   \n",
       "1117  2100005863018   498000    2BL-RH13J      2018.0   3371.0   \n",
       "1118  2100005567510   588000     2BL-NC59      2021.0  21834.0   \n",
       "1119  2100006115840  2898000      2BL-FLC      2018.0   8920.0   \n",
       "1120  2100005856706  1368000          LC3      2011.0  14216.0   \n",
       "1121  2100005422826  1048000          GY4      2010.0  21583.0   \n",
       "\n",
       "      guarantee_period  store_id                               name  \\\n",
       "0                    5        63                            GSX250R   \n",
       "1                    5        50                             Z900RS   \n",
       "2                    3        50                                VOX   \n",
       "3                    3        27                          FLSTN1580   \n",
       "4                    3        65   CB400 SUPER FOUR HYPER VTEC Revo   \n",
       "...                ...       ...                                ...   \n",
       "1117                 5        46                              YZFR3   \n",
       "1118                 1        13                              GB350   \n",
       "1119                 5        36        FLTRX1750Road Glide Special   \n",
       "1120                 3         1                            XL1200X   \n",
       "1121                 3        77            Dyna Fat Bob  FXDF1580    \n",
       "\n",
       "      displacement  color_ピンク  ...  brand_Husqvarna  brand_KAWASAKI  \\\n",
       "0            250.0      False  ...            False           False   \n",
       "1            950.0      False  ...            False            True   \n",
       "2             50.0      False  ...            False           False   \n",
       "3           1580.0      False  ...            False           False   \n",
       "4            400.0      False  ...            False           False   \n",
       "...            ...        ...  ...              ...             ...   \n",
       "1117         320.0      False  ...            False           False   \n",
       "1118         350.0      False  ...            False           False   \n",
       "1119        1750.0      False  ...            False           False   \n",
       "1120        1200.0      False  ...            False           False   \n",
       "1121        1584.0      False  ...            False           False   \n",
       "\n",
       "      brand_KTM  brand_SUZUKI  brand_Triumph  brand_YAMAHA  type_オフロード/モタード  \\\n",
       "0         False          True          False         False            False   \n",
       "1         False         False          False         False            False   \n",
       "2         False         False          False          True            False   \n",
       "3         False         False          False         False            False   \n",
       "4         False         False          False         False            False   \n",
       "...         ...           ...            ...           ...              ...   \n",
       "1117      False         False          False          True            False   \n",
       "1118      False         False          False         False            False   \n",
       "1119      False         False          False         False            False   \n",
       "1120      False         False          False         False            False   \n",
       "1121      False         False          False         False            False   \n",
       "\n",
       "      type_スクーター/ビッグスクーター  type_スポーツ/ツアラー  type_ネイキッド  \n",
       "0                   False            True       False  \n",
       "1                   False           False        True  \n",
       "2                    True           False       False  \n",
       "3                   False           False       False  \n",
       "4                   False           False        True  \n",
       "...                   ...             ...         ...  \n",
       "1117                False           False        True  \n",
       "1118                False           False        True  \n",
       "1119                False           False       False  \n",
       "1120                False           False       False  \n",
       "1121                False           False       False  \n",
       "\n",
       "[1119 rows x 33 columns]"
      ]
     },
     "execution_count": 6,
     "metadata": {},
     "output_type": "execute_result"
    }
   ],
   "source": [
    "test_data"
   ]
  },
  {
   "cell_type": "code",
   "execution_count": 11,
   "metadata": {},
   "outputs": [
    {
     "data": {
      "text/plain": [
       "dtype('int64')"
      ]
     },
     "execution_count": 11,
     "metadata": {},
     "output_type": "execute_result"
    }
   ],
   "source": [
    "test_data['guarantee_period'].dtype"
   ]
  },
  {
   "cell_type": "code",
   "execution_count": 7,
   "metadata": {},
   "outputs": [
    {
     "data": {
      "text/plain": [
       "array([[2021.0, 5034.0, 5, ..., False, True, False],\n",
       "       [2020.0, 8354.0, 5, ..., False, False, True],\n",
       "       [2016.0, 11896.0, 3, ..., True, False, False],\n",
       "       ...,\n",
       "       [2018.0, 8920.0, 5, ..., False, False, False],\n",
       "       [2011.0, 14216.0, 3, ..., False, False, False],\n",
       "       [2010.0, 21583.0, 3, ..., False, False, False]], dtype=object)"
      ]
     },
     "execution_count": 7,
     "metadata": {},
     "output_type": "execute_result"
    }
   ],
   "source": [
    "X_test"
   ]
  },
  {
   "cell_type": "code",
   "execution_count": 8,
   "metadata": {},
   "outputs": [],
   "source": [
    "data=pd.Series(data=[1,2000,111,2020,'赤',10000,2,1,'HONDA','CBR1000RR','スポーツ/ツアラー','1000'],index=all_data.columns)\n",
    "df_t=pd.DataFrame(columns=all_data.columns)\n",
    "df_t.loc[1]=data"
   ]
  },
  {
   "cell_type": "code",
   "execution_count": 9,
   "metadata": {},
   "outputs": [
    {
     "data": {
      "text/html": [
       "<div>\n",
       "<style scoped>\n",
       "    .dataframe tbody tr th:only-of-type {\n",
       "        vertical-align: middle;\n",
       "    }\n",
       "\n",
       "    .dataframe tbody tr th {\n",
       "        vertical-align: top;\n",
       "    }\n",
       "\n",
       "    .dataframe thead th {\n",
       "        text-align: right;\n",
       "    }\n",
       "</style>\n",
       "<table border=\"1\" class=\"dataframe\">\n",
       "  <thead>\n",
       "    <tr style=\"text-align: right;\">\n",
       "      <th></th>\n",
       "      <th>id</th>\n",
       "      <th>cost</th>\n",
       "      <th>model_number</th>\n",
       "      <th>model_year</th>\n",
       "      <th>color</th>\n",
       "      <th>mileage</th>\n",
       "      <th>guarantee_period</th>\n",
       "      <th>store_id</th>\n",
       "      <th>brand</th>\n",
       "      <th>name</th>\n",
       "      <th>type</th>\n",
       "      <th>displacement</th>\n",
       "    </tr>\n",
       "  </thead>\n",
       "  <tbody>\n",
       "    <tr>\n",
       "      <th>1</th>\n",
       "      <td>1</td>\n",
       "      <td>2000</td>\n",
       "      <td>111</td>\n",
       "      <td>2020</td>\n",
       "      <td>赤</td>\n",
       "      <td>10000</td>\n",
       "      <td>2</td>\n",
       "      <td>1</td>\n",
       "      <td>HONDA</td>\n",
       "      <td>CBR1000RR</td>\n",
       "      <td>スポーツ/ツアラー</td>\n",
       "      <td>1000</td>\n",
       "    </tr>\n",
       "  </tbody>\n",
       "</table>\n",
       "</div>"
      ],
      "text/plain": [
       "  id  cost model_number model_year color mileage guarantee_period store_id  \\\n",
       "1  1  2000          111       2020     赤   10000                2        1   \n",
       "\n",
       "   brand       name       type displacement  \n",
       "1  HONDA  CBR1000RR  スポーツ/ツアラー         1000  "
      ]
     },
     "execution_count": 9,
     "metadata": {},
     "output_type": "execute_result"
    }
   ],
   "source": [
    "df_t"
   ]
  },
  {
   "cell_type": "code",
   "execution_count": 10,
   "metadata": {},
   "outputs": [],
   "source": [
    "df_t=pd.get_dummies(df_t,drop_first=True,columns=encoding_target)"
   ]
  },
  {
   "cell_type": "code",
   "execution_count": 85,
   "metadata": {},
   "outputs": [
    {
     "data": {
      "text/html": [
       "<div>\n",
       "<style scoped>\n",
       "    .dataframe tbody tr th:only-of-type {\n",
       "        vertical-align: middle;\n",
       "    }\n",
       "\n",
       "    .dataframe tbody tr th {\n",
       "        vertical-align: top;\n",
       "    }\n",
       "\n",
       "    .dataframe thead th {\n",
       "        text-align: right;\n",
       "    }\n",
       "</style>\n",
       "<table border=\"1\" class=\"dataframe\">\n",
       "  <thead>\n",
       "    <tr style=\"text-align: right;\">\n",
       "      <th></th>\n",
       "      <th>id</th>\n",
       "      <th>cost</th>\n",
       "      <th>model_number</th>\n",
       "      <th>model_year</th>\n",
       "      <th>mileage</th>\n",
       "      <th>guarantee_period</th>\n",
       "      <th>store_id</th>\n",
       "      <th>name</th>\n",
       "      <th>displacement</th>\n",
       "    </tr>\n",
       "  </thead>\n",
       "  <tbody>\n",
       "    <tr>\n",
       "      <th>1</th>\n",
       "      <td>1</td>\n",
       "      <td>2000</td>\n",
       "      <td>111</td>\n",
       "      <td>2020</td>\n",
       "      <td>10000</td>\n",
       "      <td>2</td>\n",
       "      <td>1</td>\n",
       "      <td>CBR1000RR</td>\n",
       "      <td>1000</td>\n",
       "    </tr>\n",
       "  </tbody>\n",
       "</table>\n",
       "</div>"
      ],
      "text/plain": [
       "  id  cost model_number model_year mileage guarantee_period store_id  \\\n",
       "1  1  2000          111       2020   10000                2        1   \n",
       "\n",
       "        name displacement  \n",
       "1  CBR1000RR         1000  "
      ]
     },
     "execution_count": 85,
     "metadata": {},
     "output_type": "execute_result"
    }
   ],
   "source": [
    "df_t"
   ]
  },
  {
   "cell_type": "code",
   "execution_count": 77,
   "metadata": {},
   "outputs": [],
   "source": [
    "\n",
    "X_df_t = df_t.iloc[:,2:].drop(columns=['name','model_number','store_id']).values"
   ]
  },
  {
   "cell_type": "code",
   "execution_count": 79,
   "metadata": {},
   "outputs": [
    {
     "data": {
      "text/plain": [
       "array([[2020, 10000, 2, '1000']], dtype=object)"
      ]
     },
     "execution_count": 79,
     "metadata": {},
     "output_type": "execute_result"
    }
   ],
   "source": [
    "X_df_t"
   ]
  },
  {
   "cell_type": "code",
   "execution_count": 10,
   "metadata": {},
   "outputs": [
    {
     "ename": "NameError",
     "evalue": "name 'X_df_t' is not defined",
     "output_type": "error",
     "traceback": [
      "\u001b[0;31m---------------------------------------------------------------------------\u001b[0m",
      "\u001b[0;31mNameError\u001b[0m                                 Traceback (most recent call last)",
      "\u001b[1;32m/Users/arimitsushuntarou/中古バイク価格予想git/flask/flask.ipynb セル 15\u001b[0m line \u001b[0;36m1\n\u001b[0;32m----> <a href='vscode-notebook-cell:/Users/arimitsushuntarou/%E4%B8%AD%E5%8F%A4%E3%83%8F%E3%82%99%E3%82%A4%E3%82%AF%E4%BE%A1%E6%A0%BC%E4%BA%88%E6%83%B3git/flask/flask.ipynb#X20sZmlsZQ%3D%3D?line=0'>1</a>\u001b[0m rf\u001b[39m.\u001b[39mpredict(X_df_t)\n",
      "\u001b[0;31mNameError\u001b[0m: name 'X_df_t' is not defined"
     ]
    }
   ],
   "source": [
    "rf.predict(X_df_t)"
   ]
  },
  {
   "cell_type": "markdown",
   "metadata": {},
   "source": [
    "# インプットを受け取るためのDBを作成"
   ]
  },
  {
   "cell_type": "code",
   "execution_count": 10,
   "metadata": {},
   "outputs": [
    {
     "data": {
      "text/plain": [
       "<sqlite3.Cursor at 0x168f6fbc0>"
      ]
     },
     "execution_count": 10,
     "metadata": {},
     "output_type": "execute_result"
    }
   ],
   "source": [
    "import sqlite3\n",
    "import os\n",
    "conn = sqlite3.connect('inputdata.sqlite')\n",
    "c = conn.cursor()\n",
    "c.execute('DROP TABLE IF EXISTS input_db')\n",
    "c.execute('CREATE TABLE input_db (model_year FLOAT, mileage FLOAT, guarantee_period FLOAT, color TEXT, brand TEXT, type TEXT ,displacement FLOAT )')"
   ]
  },
  {
   "cell_type": "code",
   "execution_count": 11,
   "metadata": {},
   "outputs": [],
   "source": [
    "c.execute('INSERT INTO input_db (model_year, mileage, guarantee_period,color,brand,type,displacement) VALUES'\\\n",
    "          '(?,?,?,?,?,?,?)',(2022,1100,3,\"赤\",\"HONDA\",\"スポーツ/ツアラー\",1000) )\n",
    "conn.commit()\n",
    "conn.close()"
   ]
  },
  {
   "cell_type": "code",
   "execution_count": 12,
   "metadata": {},
   "outputs": [],
   "source": [
    "conn = sqlite3.connect('inputdata.sqlite')\n",
    "c = conn.cursor()"
   ]
  },
  {
   "cell_type": "code",
   "execution_count": 13,
   "metadata": {},
   "outputs": [
    {
     "name": "stdout",
     "output_type": "stream",
     "text": [
      "[(2022.0, 1100.0, 3.0, '赤', 'HONDA', 'スポーツ/ツアラー', 1000.0)]\n"
     ]
    }
   ],
   "source": [
    "c.execute('SELECT * FROM input_db ')\n",
    "results = c.fetchall()\n",
    "conn.close()\n",
    "print(results)"
   ]
  },
  {
   "cell_type": "code",
   "execution_count": null,
   "metadata": {},
   "outputs": [],
   "source": []
  },
  {
   "cell_type": "code",
   "execution_count": null,
   "metadata": {},
   "outputs": [],
   "source": []
  }
 ],
 "metadata": {
  "kernelspec": {
   "display_name": "python310",
   "language": "python",
   "name": "python3"
  },
  "language_info": {
   "codemirror_mode": {
    "name": "ipython",
    "version": 3
   },
   "file_extension": ".py",
   "mimetype": "text/x-python",
   "name": "python",
   "nbconvert_exporter": "python",
   "pygments_lexer": "ipython3",
   "version": "3.10.12"
  },
  "orig_nbformat": 4
 },
 "nbformat": 4,
 "nbformat_minor": 2
}
