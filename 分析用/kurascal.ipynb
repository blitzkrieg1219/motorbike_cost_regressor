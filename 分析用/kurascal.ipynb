{
 "cells": [
  {
   "cell_type": "code",
   "execution_count": 3,
   "metadata": {},
   "outputs": [],
   "source": [
    "import pandas as pd\n",
    "import numpy as np\n",
    "import matplotlib.pyplot as plt\n",
    "import seaborn as sns\n",
    "from scipy import stats as sps"
   ]
  },
  {
   "cell_type": "code",
   "execution_count": 6,
   "metadata": {},
   "outputs": [],
   "source": [
    "#データの読み込み\n",
    "info_data = pd.read_csv('../data/アップロード用/bike_info.csv',index_col=0)\n",
    "model_data = pd.read_csv('../data/アップロード用/model_data.csv',index_col=0)"
   ]
  },
  {
   "cell_type": "code",
   "execution_count": 7,
   "metadata": {},
   "outputs": [],
   "source": [
    "#サンプルサイズが少ないモデルを抽出\n",
    "all_data = info_data.merge(model_data,on='model_number',how='left')\n",
    "brand_count = all_data.groupby('brand').size().sort_values(ascending=True)\n",
    "#下位10メーカーを抽出(上のcountデータがすでに照準のため上から９つを抽出する)\n",
    "low_10 = brand_count.index[0:10]"
   ]
  },
  {
   "cell_type": "code",
   "execution_count": 11,
   "metadata": {},
   "outputs": [
    {
     "data": {
      "text/plain": [
       "Index(['Aprilia', 'MV Agusta', 'Lambretta', 'SWM', 'Benelli', 'Beta', 'Vespa',\n",
       "       'Moto Guzzi', 'Peugeot', 'Italjet'],\n",
       "      dtype='object', name='brand')"
      ]
     },
     "execution_count": 11,
     "metadata": {},
     "output_type": "execute_result"
    }
   ],
   "source": [
    "low_10"
   ]
  },
  {
   "cell_type": "code",
   "execution_count": 8,
   "metadata": {},
   "outputs": [],
   "source": [
    "model_data = model_data[~model_data['brand'].isin(low_10)]"
   ]
  },
  {
   "cell_type": "code",
   "execution_count": 9,
   "metadata": {},
   "outputs": [],
   "source": [
    "#このメーカーデータを使ってtrainデータに結合\n",
    "data = info_data.merge(model_data,on='model_number',how='left')\n",
    "data.dropna(inplace=True)"
   ]
  },
  {
   "cell_type": "markdown",
   "metadata": {},
   "source": [
    "# タイプごとに差があるのか検定を行う  \n",
    "サンプルサイズに差があるため、対応がない --> クラスカルウォリスの検定を行う"
   ]
  },
  {
   "cell_type": "code",
   "execution_count": 13,
   "metadata": {},
   "outputs": [
    {
     "data": {
      "text/html": [
       "<div>\n",
       "<style scoped>\n",
       "    .dataframe tbody tr th:only-of-type {\n",
       "        vertical-align: middle;\n",
       "    }\n",
       "\n",
       "    .dataframe tbody tr th {\n",
       "        vertical-align: top;\n",
       "    }\n",
       "\n",
       "    .dataframe thead th {\n",
       "        text-align: right;\n",
       "    }\n",
       "</style>\n",
       "<table border=\"1\" class=\"dataframe\">\n",
       "  <thead>\n",
       "    <tr style=\"text-align: right;\">\n",
       "      <th></th>\n",
       "      <th>id</th>\n",
       "      <th>cost</th>\n",
       "      <th>model_number</th>\n",
       "      <th>model_year</th>\n",
       "      <th>color</th>\n",
       "      <th>mileage</th>\n",
       "      <th>guarantee_period</th>\n",
       "      <th>store_id</th>\n",
       "      <th>brand</th>\n",
       "      <th>name</th>\n",
       "      <th>displacement</th>\n",
       "    </tr>\n",
       "    <tr>\n",
       "      <th>type</th>\n",
       "      <th></th>\n",
       "      <th></th>\n",
       "      <th></th>\n",
       "      <th></th>\n",
       "      <th></th>\n",
       "      <th></th>\n",
       "      <th></th>\n",
       "      <th></th>\n",
       "      <th></th>\n",
       "      <th></th>\n",
       "      <th></th>\n",
       "    </tr>\n",
       "  </thead>\n",
       "  <tbody>\n",
       "    <tr>\n",
       "      <th>アメリカン/クルーザー</th>\n",
       "      <td>716</td>\n",
       "      <td>716</td>\n",
       "      <td>716</td>\n",
       "      <td>716</td>\n",
       "      <td>716</td>\n",
       "      <td>716</td>\n",
       "      <td>716</td>\n",
       "      <td>716</td>\n",
       "      <td>716</td>\n",
       "      <td>716</td>\n",
       "      <td>716</td>\n",
       "    </tr>\n",
       "    <tr>\n",
       "      <th>オフロード/モタード</th>\n",
       "      <td>524</td>\n",
       "      <td>524</td>\n",
       "      <td>524</td>\n",
       "      <td>524</td>\n",
       "      <td>524</td>\n",
       "      <td>524</td>\n",
       "      <td>524</td>\n",
       "      <td>524</td>\n",
       "      <td>524</td>\n",
       "      <td>524</td>\n",
       "      <td>524</td>\n",
       "    </tr>\n",
       "    <tr>\n",
       "      <th>スクーター/ビッグスクーター</th>\n",
       "      <td>1280</td>\n",
       "      <td>1280</td>\n",
       "      <td>1280</td>\n",
       "      <td>1280</td>\n",
       "      <td>1280</td>\n",
       "      <td>1280</td>\n",
       "      <td>1280</td>\n",
       "      <td>1280</td>\n",
       "      <td>1280</td>\n",
       "      <td>1280</td>\n",
       "      <td>1280</td>\n",
       "    </tr>\n",
       "    <tr>\n",
       "      <th>スポーツ/ツアラー</th>\n",
       "      <td>907</td>\n",
       "      <td>907</td>\n",
       "      <td>907</td>\n",
       "      <td>907</td>\n",
       "      <td>907</td>\n",
       "      <td>907</td>\n",
       "      <td>907</td>\n",
       "      <td>907</td>\n",
       "      <td>907</td>\n",
       "      <td>907</td>\n",
       "      <td>907</td>\n",
       "    </tr>\n",
       "    <tr>\n",
       "      <th>ネイキッド</th>\n",
       "      <td>2173</td>\n",
       "      <td>2173</td>\n",
       "      <td>2173</td>\n",
       "      <td>2173</td>\n",
       "      <td>2173</td>\n",
       "      <td>2173</td>\n",
       "      <td>2173</td>\n",
       "      <td>2173</td>\n",
       "      <td>2173</td>\n",
       "      <td>2173</td>\n",
       "      <td>2173</td>\n",
       "    </tr>\n",
       "  </tbody>\n",
       "</table>\n",
       "</div>"
      ],
      "text/plain": [
       "                  id  cost  model_number  model_year  color  mileage  \\\n",
       "type                                                                   \n",
       "アメリカン/クルーザー      716   716           716         716    716      716   \n",
       "オフロード/モタード       524   524           524         524    524      524   \n",
       "スクーター/ビッグスクーター  1280  1280          1280        1280   1280     1280   \n",
       "スポーツ/ツアラー        907   907           907         907    907      907   \n",
       "ネイキッド           2173  2173          2173        2173   2173     2173   \n",
       "\n",
       "                guarantee_period  store_id  brand  name  displacement  \n",
       "type                                                                   \n",
       "アメリカン/クルーザー                  716       716    716   716           716  \n",
       "オフロード/モタード                   524       524    524   524           524  \n",
       "スクーター/ビッグスクーター              1280      1280   1280  1280          1280  \n",
       "スポーツ/ツアラー                    907       907    907   907           907  \n",
       "ネイキッド                       2173      2173   2173  2173          2173  "
      ]
     },
     "execution_count": 13,
     "metadata": {},
     "output_type": "execute_result"
    }
   ],
   "source": [
    "data.groupby('type').count()"
   ]
  },
  {
   "cell_type": "code",
   "execution_count": 20,
   "metadata": {},
   "outputs": [],
   "source": [
    "american = data[data['type']=='アメリカン/クルーザー'].cost.values\n",
    "offload = data[data['type']=='オフロード/モタード'].cost.values\n",
    "scooter = data[data['type']=='スクーター/ビッグスクーター'].cost.values\n",
    "sport = data[data['type']=='スポーツ/ツアラー'].cost.values\n",
    "naked = data[data['type']=='ネイキッド'].cost.values"
   ]
  },
  {
   "cell_type": "code",
   "execution_count": 24,
   "metadata": {},
   "outputs": [
    {
     "data": {
      "text/plain": [
       "array([1378000,  348000,  578000, ...,  748000, 1658000,  458000])"
      ]
     },
     "execution_count": 24,
     "metadata": {},
     "output_type": "execute_result"
    }
   ],
   "source": [
    "naked"
   ]
  },
  {
   "cell_type": "code",
   "execution_count": 25,
   "metadata": {},
   "outputs": [],
   "source": [
    "result = sps.kruskal(american,offload,scooter,sport,naked)"
   ]
  },
  {
   "cell_type": "code",
   "execution_count": 27,
   "metadata": {},
   "outputs": [
    {
     "name": "stdout",
     "output_type": "stream",
     "text": [
      "KruskalResult(statistic=2396.7544604601067, pvalue=0.0)\n"
     ]
    }
   ],
   "source": [
    "print(result)"
   ]
  },
  {
   "cell_type": "markdown",
   "metadata": {},
   "source": [
    "## pvalがほぼゼロに近いので、有意水準1%でも差があると言える。"
   ]
  },
  {
   "cell_type": "markdown",
   "metadata": {},
   "source": []
  }
 ],
 "metadata": {
  "kernelspec": {
   "display_name": "python310",
   "language": "python",
   "name": "python3"
  },
  "language_info": {
   "codemirror_mode": {
    "name": "ipython",
    "version": 3
   },
   "file_extension": ".py",
   "mimetype": "text/x-python",
   "name": "python",
   "nbconvert_exporter": "python",
   "pygments_lexer": "ipython3",
   "version": "3.10.12"
  },
  "orig_nbformat": 4
 },
 "nbformat": 4,
 "nbformat_minor": 2
}
